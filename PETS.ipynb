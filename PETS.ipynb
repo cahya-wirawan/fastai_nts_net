{
  "nbformat": 4,
  "nbformat_minor": 0,
  "metadata": {
    "colab": {
      "name": "PETS.ipynb",
      "version": "0.3.2",
      "provenance": []
    },
    "kernelspec": {
      "name": "python3",
      "display_name": "Python 3"
    },
    "accelerator": "GPU"
  },
  "cells": [
    {
      "cell_type": "markdown",
      "metadata": {
        "id": "NNwffeRBxlcI",
        "colab_type": "text"
      },
      "source": [
        "Here I will be showing an analysis of ImageWoof on a standard Resnet 50 vs a Resnet50 Backbone NTS-Net. All defined functions are below an available in my github repository. One bug I have not solved is total_loss needs to be defined in the notebook, I cannot store it in the .py. Each will be run for about ten epochs"
      ]
    },
    {
      "cell_type": "code",
      "metadata": {
        "id": "zHlB4jSnxgij",
        "colab_type": "code",
        "outputId": "2970bdb3-20aa-4bbd-995b-114304f22c26",
        "colab": {
          "base_uri": "https://localhost:8080/",
          "height": 34
        }
      },
      "source": [
        "!git clone https://github.com/muellerzr/fastai_nts_net.git"
      ],
      "execution_count": 0,
      "outputs": [
        {
          "output_type": "stream",
          "text": [
            "fatal: destination path 'fastai_nts_net' already exists and is not an empty directory.\n"
          ],
          "name": "stdout"
        }
      ]
    },
    
    {
      "cell_type": "markdown",
      "metadata": {
        "id": "H3h4kWmFx_4D",
        "colab_type": "text"
      },
      "source": [
        "## Standard Resnet 50 Pretrained"
      ]
    },
    {
      "cell_type": "code",
      "metadata": {
        "id": "d5_ZAOPLx-FZ",
        "colab_type": "code",
        "colab": {}
      },
      "source": [
        "from fastai import *\n",
        "from fastai.vision import *"
      ],
      "execution_count": 0,
      "outputs": []
    },
    {
      "cell_type": "code",
      "metadata": {
        "id": "HQybaCK3x42e",
        "colab_type": "code",
        "colab": {}
      },
      "source": [
        "bs = 32 # fix to four if needed"
      ],
      "execution_count": 0,
      "outputs": []
    },
    {
      "cell_type": "code",
      "metadata": {
        "id": "uTj6pIzCx7xf",
        "colab_type": "code",
        "colab": {}
      },
      "source": [
        "path = untar_data(URLs.PETS)"
      ],
      "execution_count": 0,
      "outputs": []
    },
    {
      "cell_type": "code",
      "metadata": {
        "id": "UhPjnG7S2EdG",
        "colab_type": "code",
        "colab": {}
      },
      "source": [
        "path_anno = path/'annotations'\n",
        "path_img = path/'images'"
      ],
      "execution_count": 0,
      "outputs": []
    },
    {
      "cell_type": "code",
      "metadata": {
        "id": "7kuqGirK2GDA",
        "colab_type": "code",
        "colab": {}
      },
      "source": [
        "fnames = get_image_files(path_img)"
      ],
      "execution_count": 0,
      "outputs": []
    },
    {
      "cell_type": "code",
      "metadata": {
        "id": "06ASvvok2Ha6",
        "colab_type": "code",
        "colab": {}
      },
      "source": [
        "np.random.seed(2)\n",
        "pat = r'/([^/]+)_\\d+.jpg$'"
      ],
      "execution_count": 0,
      "outputs": []
    },
    {
      "cell_type": "code",
      "metadata": {
        "id": "6K4lcAkQyE-_",
        "colab_type": "code",
        "colab": {}
      },
      "source": [
        "data = ImageDataBunch.from_name_re(path_img, fnames, pat, ds_tfms=get_transforms(), size=448, bs=12\n",
        "                                  ).normalize(imagenet_stats)"
      ],
      "execution_count": 0,
      "outputs": []
    },
    {
      "cell_type": "code",
      "metadata": {
        "id": "ttv1rOdDFRFT",
        "colab_type": "code",
        "colab": {}
      },
      "source": [
        "learn = Learner(data, models.resnet50(True), loss_func=LabelSmoothingCrossEntropy(), metrics=accuracy)"
      ],
      "execution_count": 0,
      "outputs": []
    },
    {
      "cell_type": "code",
      "metadata": {
        "id": "hBu1dlYIytZn",
        "colab_type": "code",
        "outputId": "1ee3183f-15db-4960-dd92-747ac652e29a",
        "colab": {
          "base_uri": "https://localhost:8080/",
          "height": 34
        }
      },
      "source": [
        "learn.lr_find()"
      ],
      "execution_count": 0,
      "outputs": [
        {
          "output_type": "display_data",
          "data": {
            "text/html": [
              ""
            ],
            "text/plain": [
              "<IPython.core.display.HTML object>"
            ]
          },
          "metadata": {
            "tags": []
          }
        },
        {
          "output_type": "stream",
          "text": [
            "LR Finder is complete, type {learner_name}.recorder.plot() to see the graph.\n"
          ],
          "name": "stdout"
        }
      ]
    },
    {
      "cell_type": "code",
      "metadata": {
        "id": "ynl-srx7y7Ao",
        "colab_type": "code",
        "outputId": "9c2133c0-ea81-4cc7-f213-48a4a0f72d54",
        "colab": {
          "base_uri": "https://localhost:8080/",
          "height": 317
        }
      },
      "source": [
        "learn.recorder.plot(suggestion=True)"
      ],
      "execution_count": 0,
      "outputs": [
        {
          "output_type": "stream",
          "text": [
            "Min numerical gradient: 1.74E-03\n",
            "Min loss divided by 10: 6.92E-03\n"
          ],
          "name": "stdout"
        },
        {
          "output_type": "display_data",
          "data": {
            "image/png": "[encoded data removed]",
            "text/plain": [
              "<Figure size 432x288 with 1 Axes>"
            ]
          },
          "metadata": {
            "tags": []
          }
        }
      ]
    },
    {
      "cell_type": "code",
      "metadata": {
        "id": "xqnnQgnnzN-2",
        "colab_type": "code",
        "outputId": "a916b95b-93c8-4b63-cad6-738dac11fe19",
        "colab": {
          "base_uri": "https://localhost:8080/",
          "height": 173
        }
      },
      "source": [
        "learn.fit_one_cycle(4, 1.74E-03, div_factor=10, pct_start=0.3)"
      ],
      "execution_count": 0,
      "outputs": [
        {
          "output_type": "display_data",
          "data": {
            "text/html": [
              "<table border=\"1\" class=\"dataframe\">\n",
              "  <thead>\n",
              "    <tr style=\"text-align: left;\">\n",
              "      <th>epoch</th>\n",
              "      <th>train_loss</th>\n",
              "      <th>valid_loss</th>\n",
              "      <th>accuracy</th>\n",
              "      <th>time</th>\n",
              "    </tr>\n",
              "  </thead>\n",
              "  <tbody>\n",
              "    <tr>\n",
              "      <td>0</td>\n",
              "      <td>3.524024</td>\n",
              "      <td>3.731314</td>\n",
              "      <td>0.203654</td>\n",
              "      <td>04:38</td>\n",
              "    </tr>\n",
              "    <tr>\n",
              "      <td>1</td>\n",
              "      <td>2.906492</td>\n",
              "      <td>3.253519</td>\n",
              "      <td>0.349120</td>\n",
              "      <td>04:36</td>\n",
              "    </tr>\n",
              "    <tr>\n",
              "      <td>2</td>\n",
              "      <td>2.283403</td>\n",
              "      <td>2.007472</td>\n",
              "      <td>0.690122</td>\n",
              "      <td>04:35</td>\n",
              "    </tr>\n",
              "    <tr>\n",
              "      <td>3</td>\n",
              "      <td>1.848644</td>\n",
              "      <td>1.736027</td>\n",
              "      <td>0.784844</td>\n",
              "      <td>04:36</td>\n",
              "    </tr>\n",
              "  </tbody>\n",
              "</table>"
            ],
            "text/plain": [
              "<IPython.core.display.HTML object>"
            ]
          },
          "metadata": {
            "tags": []
          }
        }
      ]
    },
    {
      "cell_type": "markdown",
      "metadata": {
        "id": "QD-1qpXH2ux5",
        "colab_type": "text"
      },
      "source": [
        "## NTS-Net"
      ]
    },
    {
      "cell_type": "code",
      "metadata": {
        "id": "eiHEy0GN6dVv",
        "colab_type": "code",
        "colab": {}
      },
      "source": [
        "from fastai_nts_net.model import *\n",
        "from fastai_nts_net.prediction import *\n",
        "from fastai_nts_net.loss_functions import *"
      ],
      "execution_count": 0,
      "outputs": []
    },
    {
      "cell_type": "code",
      "metadata": {
        "id": "CBvHD6bFzmNI",
        "colab_type": "code",
        "colab": {}
      },
      "source": [
        "net = attention_net(6, data.c, 4, pretrained=True)"
      ],
      "execution_count": 0,
      "outputs": []
    },
    {
      "cell_type": "code",
      "metadata": {
        "id": "rX_ykoF12zKL",
        "colab_type": "code",
        "colab": {}
      },
      "source": [
        "def mytotal_loss(out, label):\n",
        "    \n",
        "    n = LabelSmoothingCrossEntropy()\n",
        "    raw_logits, concat_logits, part_logits, _, top_n_prob = out\n",
        "    \n",
        "    bs = len(raw_logits)\n",
        "    \n",
        "    lbl = label.unsqueeze(1).repeat(1, 6).view(-1)\n",
        "    lgt = part_logits.view(bs * 6, -1)\n",
        "    \n",
        "    part_loss = list_loss(lgt, lbl).view(bs,6)\n",
        "    raw_loss = n.forward(raw_logits, label)        #here\n",
        "    concat_loss = n.forward(concat_logits, label)  #here\n",
        "    rank_loss = ranking_loss(top_n_prob, part_loss, 6)\n",
        "    partcls_loss = n.forward(lgt, lbl)             #here\n",
        "    \n",
        "   \n",
        "    total_loss = rank_loss + raw_loss + concat_loss + partcls_loss\n",
        "    return total_loss.squeeze(0)"
      ],
      "execution_count": 0,
      "outputs": []
    },
    {
      "cell_type": "code",
      "metadata": {
        "id": "Ik8kJjaW217w",
        "colab_type": "code",
        "colab": {}
      },
      "source": [
        "learn = Learner(data, net, loss_func=mytotal_loss, metrics=metric)"
      ],
      "execution_count": 0,
      "outputs": []
    },
    {
      "cell_type": "code",
      "metadata": {
        "id": "-HyqBJVd25vJ",
        "colab_type": "code",
        "outputId": "97ebb536-2061-423e-be24-87124f09f270",
        "colab": {
          "base_uri": "https://localhost:8080/",
          "height": 173
        }
      },
      "source": [
        "learn.fit_one_cycle(4, 1.74E-03, div_factor=10, pct_start=0.3)"
      ],
      "execution_count": 0,
      "outputs": [
        {
          "output_type": "display_data",
          "data": {
            "text/html": [
              "<table border=\"1\" class=\"dataframe\">\n",
              "  <thead>\n",
              "    <tr style=\"text-align: left;\">\n",
              "      <th>epoch</th>\n",
              "      <th>train_loss</th>\n",
              "      <th>valid_loss</th>\n",
              "      <th>metric</th>\n",
              "      <th>time</th>\n",
              "    </tr>\n",
              "  </thead>\n",
              "  <tbody>\n",
              "    <tr>\n",
              "      <td>0</td>\n",
              "      <td>22.747169</td>\n",
              "      <td>27.543415</td>\n",
              "      <td>0.134641</td>\n",
              "      <td>11:16</td>\n",
              "    </tr>\n",
              "    <tr>\n",
              "      <td>1</td>\n",
              "      <td>19.866039</td>\n",
              "      <td>19.254139</td>\n",
              "      <td>0.451962</td>\n",
              "      <td>11:14</td>\n",
              "    </tr>\n",
              "    <tr>\n",
              "      <td>2</td>\n",
              "      <td>16.520298</td>\n",
              "      <td>15.801096</td>\n",
              "      <td>0.743572</td>\n",
              "      <td>11:12</td>\n",
              "    </tr>\n",
              "    <tr>\n",
              "      <td>3</td>\n",
              "      <td>15.166106</td>\n",
              "      <td>15.072411</td>\n",
              "      <td>0.826793</td>\n",
              "      <td>11:11</td>\n",
              "    </tr>\n",
              "  </tbody>\n",
              "</table>"
            ],
            "text/plain": [
              "<IPython.core.display.HTML object>"
            ]
          },
          "metadata": {
            "tags": []
          }
        }
      ]
    },
    {
      "cell_type": "code",
      "metadata": {
        "id": "NWy5mUKx63dl",
        "colab_type": "code",
        "colab": {}
      },
      "source": [
        ""
      ],
      "execution_count": 0,
      "outputs": []
    }
  ]
}
